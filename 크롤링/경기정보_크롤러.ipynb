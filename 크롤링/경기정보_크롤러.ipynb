{
  "cells": [
    {
      "cell_type": "markdown",
      "metadata": {
        "id": "view-in-github",
        "colab_type": "text"
      },
      "source": [
        "<a href=\"https://colab.research.google.com/github/Seohyun29/HAWK-EYE-Project/blob/main/%EA%B2%BD%EA%B8%B0%EC%A0%95%EB%B3%B4_%ED%81%AC%EB%A1%A4%EB%9F%AC.ipynb\" target=\"_parent\"><img src=\"https://colab.research.google.com/assets/colab-badge.svg\" alt=\"Open In Colab\"/></a>"
      ]
    },
    {
      "cell_type": "markdown",
      "id": "822be1e5-68d1-4f67-a584-4fe77b32446c",
      "metadata": {
        "id": "822be1e5-68d1-4f67-a584-4fe77b32446c"
      },
      "source": [
        "# KBO 경기정보 크롤러\n",
        "https://www.koreabaseball.com/Record/Player/HitterBasic/Basic1.aspx"
      ]
    },
    {
      "cell_type": "code",
      "source": [
        "!pip install selenium"
      ],
      "metadata": {
        "colab": {
          "base_uri": "https://localhost:8080/"
        },
        "id": "fUE4izvbG1Xi",
        "outputId": "73dbbcb3-5b23-4331-8433-2dac58d23f5f"
      },
      "id": "fUE4izvbG1Xi",
      "execution_count": null,
      "outputs": [
        {
          "output_type": "stream",
          "name": "stdout",
          "text": [
            "Collecting selenium\n",
            "  Downloading selenium-4.17.2-py3-none-any.whl (9.9 MB)\n",
            "\u001b[2K     \u001b[90m━━━━━━━━━━━━━━━━━━━━━━━━━━━━━━━━━━━━━━━━\u001b[0m \u001b[32m9.9/9.9 MB\u001b[0m \u001b[31m24.2 MB/s\u001b[0m eta \u001b[36m0:00:00\u001b[0m\n",
            "\u001b[?25hRequirement already satisfied: urllib3[socks]<3,>=1.26 in /usr/local/lib/python3.10/dist-packages (from selenium) (2.0.7)\n",
            "Collecting trio~=0.17 (from selenium)\n",
            "  Downloading trio-0.24.0-py3-none-any.whl (460 kB)\n",
            "\u001b[2K     \u001b[90m━━━━━━━━━━━━━━━━━━━━━━━━━━━━━━━━━━━━━━━━\u001b[0m \u001b[32m460.2/460.2 kB\u001b[0m \u001b[31m31.8 MB/s\u001b[0m eta \u001b[36m0:00:00\u001b[0m\n",
            "\u001b[?25hCollecting trio-websocket~=0.9 (from selenium)\n",
            "  Downloading trio_websocket-0.11.1-py3-none-any.whl (17 kB)\n",
            "Requirement already satisfied: certifi>=2021.10.8 in /usr/local/lib/python3.10/dist-packages (from selenium) (2023.11.17)\n",
            "Collecting typing_extensions>=4.9.0 (from selenium)\n",
            "  Downloading typing_extensions-4.9.0-py3-none-any.whl (32 kB)\n",
            "Requirement already satisfied: attrs>=20.1.0 in /usr/local/lib/python3.10/dist-packages (from trio~=0.17->selenium) (23.2.0)\n",
            "Requirement already satisfied: sortedcontainers in /usr/local/lib/python3.10/dist-packages (from trio~=0.17->selenium) (2.4.0)\n",
            "Requirement already satisfied: idna in /usr/local/lib/python3.10/dist-packages (from trio~=0.17->selenium) (3.6)\n",
            "Collecting outcome (from trio~=0.17->selenium)\n",
            "  Downloading outcome-1.3.0.post0-py2.py3-none-any.whl (10 kB)\n",
            "Requirement already satisfied: sniffio>=1.3.0 in /usr/local/lib/python3.10/dist-packages (from trio~=0.17->selenium) (1.3.0)\n",
            "Requirement already satisfied: exceptiongroup in /usr/local/lib/python3.10/dist-packages (from trio~=0.17->selenium) (1.2.0)\n",
            "Collecting wsproto>=0.14 (from trio-websocket~=0.9->selenium)\n",
            "  Downloading wsproto-1.2.0-py3-none-any.whl (24 kB)\n",
            "Requirement already satisfied: pysocks!=1.5.7,<2.0,>=1.5.6 in /usr/local/lib/python3.10/dist-packages (from urllib3[socks]<3,>=1.26->selenium) (1.7.1)\n",
            "Collecting h11<1,>=0.9.0 (from wsproto>=0.14->trio-websocket~=0.9->selenium)\n",
            "  Downloading h11-0.14.0-py3-none-any.whl (58 kB)\n",
            "\u001b[2K     \u001b[90m━━━━━━━━━━━━━━━━━━━━━━━━━━━━━━━━━━━━━━━━\u001b[0m \u001b[32m58.3/58.3 kB\u001b[0m \u001b[31m4.2 MB/s\u001b[0m eta \u001b[36m0:00:00\u001b[0m\n",
            "\u001b[?25hInstalling collected packages: typing_extensions, outcome, h11, wsproto, trio, trio-websocket, selenium\n",
            "  Attempting uninstall: typing_extensions\n",
            "    Found existing installation: typing_extensions 4.5.0\n",
            "    Uninstalling typing_extensions-4.5.0:\n",
            "      Successfully uninstalled typing_extensions-4.5.0\n",
            "\u001b[31mERROR: pip's dependency resolver does not currently take into account all the packages that are installed. This behaviour is the source of the following dependency conflicts.\n",
            "tensorflow-probability 0.22.0 requires typing-extensions<4.6.0, but you have typing-extensions 4.9.0 which is incompatible.\u001b[0m\u001b[31m\n",
            "\u001b[0mSuccessfully installed h11-0.14.0 outcome-1.3.0.post0 selenium-4.17.2 trio-0.24.0 trio-websocket-0.11.1 typing_extensions-4.9.0 wsproto-1.2.0\n"
          ]
        }
      ]
    },
    {
      "cell_type": "code",
      "source": [
        "#코랩으로 할때 설치\n",
        "!apt-get update\n",
        "!apt-get install -y chromium-chromedriver"
      ],
      "metadata": {
        "id": "8oG8YNpdXAa4",
        "colab": {
          "base_uri": "https://localhost:8080/"
        },
        "outputId": "dab6900b-bddd-44d9-ce90-9ab98e850dca"
      },
      "id": "8oG8YNpdXAa4",
      "execution_count": null,
      "outputs": [
        {
          "output_type": "stream",
          "name": "stdout",
          "text": [
            "\r0% [Working]\r            \rGet:1 https://cloud.r-project.org/bin/linux/ubuntu jammy-cran40/ InRelease [3,626 B]\n",
            "\r0% [Connecting to archive.ubuntu.com (91.189.91.81)] [Connecting to security.ubuntu.com (91.189.91.8\r0% [Connecting to archive.ubuntu.com (91.189.91.81)] [Connecting to security.ubuntu.com (91.189.91.8\r                                                                                                    \rGet:2 https://developer.download.nvidia.com/compute/cuda/repos/ubuntu2204/x86_64  InRelease [1,581 B]\n",
            "\r0% [Waiting for headers] [Waiting for headers] [Waiting for headers] [2 InRelease 1,581 B/1,581 B 10\r                                                                                                    \r0% [Waiting for headers] [Waiting for headers] [Waiting for headers]\r                                                                    \rHit:3 https://ppa.launchpadcontent.net/c2d4u.team/c2d4u4.0+/ubuntu jammy InRelease\n",
            "\r0% [Waiting for headers] [Waiting for headers] [Waiting for headers]\r                                                                    \rHit:4 https://ppa.launchpadcontent.net/deadsnakes/ppa/ubuntu jammy InRelease\n",
            "\r0% [Waiting for headers] [Waiting for headers] [Waiting for headers]\r                                                                    \rGet:5 http://security.ubuntu.com/ubuntu jammy-security InRelease [110 kB]\n",
            "\r0% [Waiting for headers] [5 InRelease 14.2 kB/110 kB 13%] [Waiting for headers]\r                                                                               \rHit:6 http://archive.ubuntu.com/ubuntu jammy InRelease\n",
            "\r0% [Waiting for headers] [5 InRelease 14.2 kB/110 kB 13%] [Waiting for headers]\r                                                                               \rGet:7 https://ppa.launchpadcontent.net/graphics-drivers/ppa/ubuntu jammy InRelease [24.3 kB]\n",
            "Hit:8 https://ppa.launchpadcontent.net/ubuntugis/ppa/ubuntu jammy InRelease\n",
            "Get:9 http://archive.ubuntu.com/ubuntu jammy-updates InRelease [119 kB]\n",
            "Get:10 https://developer.download.nvidia.com/compute/cuda/repos/ubuntu2204/x86_64  Packages [665 kB]\n",
            "Hit:11 http://archive.ubuntu.com/ubuntu jammy-backports InRelease\n",
            "Get:12 http://security.ubuntu.com/ubuntu jammy-security/restricted amd64 Packages [1,685 kB]\n",
            "Get:13 http://archive.ubuntu.com/ubuntu jammy-updates/universe amd64 Packages [1,328 kB]\n",
            "Get:14 http://security.ubuntu.com/ubuntu jammy-security/main amd64 Packages [1,398 kB]\n",
            "Get:15 http://security.ubuntu.com/ubuntu jammy-security/universe amd64 Packages [1,061 kB]\n",
            "Get:16 http://archive.ubuntu.com/ubuntu jammy-updates/main amd64 Packages [1,677 kB]\n",
            "Fetched 8,074 kB in 2s (3,675 kB/s)\n",
            "Reading package lists... Done\n",
            "Reading package lists... Done\n",
            "Building dependency tree... Done\n",
            "Reading state information... Done\n",
            "The following additional packages will be installed:\n",
            "  apparmor chromium-browser libfuse3-3 liblzo2-2 libudev1 snapd squashfs-tools systemd-hwe-hwdb\n",
            "  udev\n",
            "Suggested packages:\n",
            "  apparmor-profiles-extra apparmor-utils fuse3 zenity | kdialog\n",
            "The following NEW packages will be installed:\n",
            "  apparmor chromium-browser chromium-chromedriver libfuse3-3 liblzo2-2 snapd squashfs-tools\n",
            "  systemd-hwe-hwdb udev\n",
            "The following packages will be upgraded:\n",
            "  libudev1\n",
            "1 upgraded, 9 newly installed, 0 to remove and 33 not upgraded.\n",
            "Need to get 26.4 MB of archives.\n",
            "After this operation, 116 MB of additional disk space will be used.\n",
            "Get:1 http://archive.ubuntu.com/ubuntu jammy-updates/main amd64 apparmor amd64 3.0.4-2ubuntu2.3 [595 kB]\n",
            "Get:2 http://archive.ubuntu.com/ubuntu jammy/main amd64 liblzo2-2 amd64 2.10-2build3 [53.7 kB]\n",
            "Get:3 http://archive.ubuntu.com/ubuntu jammy/main amd64 squashfs-tools amd64 1:4.5-3build1 [159 kB]\n",
            "Get:4 http://archive.ubuntu.com/ubuntu jammy-updates/main amd64 libudev1 amd64 249.11-0ubuntu3.12 [78.2 kB]\n",
            "Get:5 http://archive.ubuntu.com/ubuntu jammy-updates/main amd64 udev amd64 249.11-0ubuntu3.12 [1,557 kB]\n",
            "Get:6 http://archive.ubuntu.com/ubuntu jammy/main amd64 libfuse3-3 amd64 3.10.5-1build1 [81.2 kB]\n",
            "Get:7 http://archive.ubuntu.com/ubuntu jammy-updates/main amd64 snapd amd64 2.58+22.04.1 [23.8 MB]\n",
            "Get:8 http://archive.ubuntu.com/ubuntu jammy-updates/universe amd64 chromium-browser amd64 1:85.0.4183.83-0ubuntu2.22.04.1 [49.2 kB]\n",
            "Get:9 http://archive.ubuntu.com/ubuntu jammy-updates/universe amd64 chromium-chromedriver amd64 1:85.0.4183.83-0ubuntu2.22.04.1 [2,308 B]\n",
            "Get:10 http://archive.ubuntu.com/ubuntu jammy-updates/main amd64 systemd-hwe-hwdb all 249.11.5 [3,228 B]\n",
            "Fetched 26.4 MB in 2s (16.3 MB/s)\n",
            "Preconfiguring packages ...\n",
            "Selecting previously unselected package apparmor.\n",
            "(Reading database ... 121730 files and directories currently installed.)\n",
            "Preparing to unpack .../apparmor_3.0.4-2ubuntu2.3_amd64.deb ...\n",
            "Unpacking apparmor (3.0.4-2ubuntu2.3) ...\n",
            "Selecting previously unselected package liblzo2-2:amd64.\n",
            "Preparing to unpack .../liblzo2-2_2.10-2build3_amd64.deb ...\n",
            "Unpacking liblzo2-2:amd64 (2.10-2build3) ...\n",
            "Selecting previously unselected package squashfs-tools.\n",
            "Preparing to unpack .../squashfs-tools_1%3a4.5-3build1_amd64.deb ...\n",
            "Unpacking squashfs-tools (1:4.5-3build1) ...\n",
            "Preparing to unpack .../libudev1_249.11-0ubuntu3.12_amd64.deb ...\n",
            "Unpacking libudev1:amd64 (249.11-0ubuntu3.12) over (249.11-0ubuntu3.10) ...\n",
            "Setting up libudev1:amd64 (249.11-0ubuntu3.12) ...\n",
            "Selecting previously unselected package udev.\n",
            "(Reading database ... 121938 files and directories currently installed.)\n",
            "Preparing to unpack .../udev_249.11-0ubuntu3.12_amd64.deb ...\n",
            "Unpacking udev (249.11-0ubuntu3.12) ...\n",
            "Selecting previously unselected package libfuse3-3:amd64.\n",
            "Preparing to unpack .../libfuse3-3_3.10.5-1build1_amd64.deb ...\n",
            "Unpacking libfuse3-3:amd64 (3.10.5-1build1) ...\n",
            "Selecting previously unselected package snapd.\n",
            "Preparing to unpack .../snapd_2.58+22.04.1_amd64.deb ...\n",
            "Unpacking snapd (2.58+22.04.1) ...\n",
            "Setting up apparmor (3.0.4-2ubuntu2.3) ...\n",
            "Created symlink /etc/systemd/system/sysinit.target.wants/apparmor.service → /lib/systemd/system/apparmor.service.\n",
            "Setting up liblzo2-2:amd64 (2.10-2build3) ...\n",
            "Setting up squashfs-tools (1:4.5-3build1) ...\n",
            "Setting up udev (249.11-0ubuntu3.12) ...\n",
            "invoke-rc.d: could not determine current runlevel\n",
            "invoke-rc.d: policy-rc.d denied execution of start.\n",
            "Setting up libfuse3-3:amd64 (3.10.5-1build1) ...\n",
            "Setting up snapd (2.58+22.04.1) ...\n",
            "Created symlink /etc/systemd/system/multi-user.target.wants/snapd.aa-prompt-listener.service → /lib/systemd/system/snapd.aa-prompt-listener.service.\n",
            "Created symlink /etc/systemd/system/multi-user.target.wants/snapd.apparmor.service → /lib/systemd/system/snapd.apparmor.service.\n",
            "Created symlink /etc/systemd/system/multi-user.target.wants/snapd.autoimport.service → /lib/systemd/system/snapd.autoimport.service.\n",
            "Created symlink /etc/systemd/system/multi-user.target.wants/snapd.core-fixup.service → /lib/systemd/system/snapd.core-fixup.service.\n",
            "Created symlink /etc/systemd/system/multi-user.target.wants/snapd.recovery-chooser-trigger.service → /lib/systemd/system/snapd.recovery-chooser-trigger.service.\n",
            "Created symlink /etc/systemd/system/multi-user.target.wants/snapd.seeded.service → /lib/systemd/system/snapd.seeded.service.\n",
            "Created symlink /etc/systemd/system/cloud-final.service.wants/snapd.seeded.service → /lib/systemd/system/snapd.seeded.service.\n",
            "Unit /lib/systemd/system/snapd.seeded.service is added as a dependency to a non-existent unit cloud-final.service.\n",
            "Created symlink /etc/systemd/system/multi-user.target.wants/snapd.service → /lib/systemd/system/snapd.service.\n",
            "Created symlink /etc/systemd/system/timers.target.wants/snapd.snap-repair.timer → /lib/systemd/system/snapd.snap-repair.timer.\n",
            "Created symlink /etc/systemd/system/sockets.target.wants/snapd.socket → /lib/systemd/system/snapd.socket.\n",
            "Created symlink /etc/systemd/system/final.target.wants/snapd.system-shutdown.service → /lib/systemd/system/snapd.system-shutdown.service.\n",
            "Selecting previously unselected package chromium-browser.\n",
            "(Reading database ... 122171 files and directories currently installed.)\n",
            "Preparing to unpack .../chromium-browser_1%3a85.0.4183.83-0ubuntu2.22.04.1_amd64.deb ...\n",
            "=> Installing the chromium snap\n",
            "==> Checking connectivity with the snap store\n",
            "===> System doesn't have a working snapd, skipping\n",
            "Unpacking chromium-browser (1:85.0.4183.83-0ubuntu2.22.04.1) ...\n",
            "Selecting previously unselected package chromium-chromedriver.\n",
            "Preparing to unpack .../chromium-chromedriver_1%3a85.0.4183.83-0ubuntu2.22.04.1_amd64.deb ...\n",
            "Unpacking chromium-chromedriver (1:85.0.4183.83-0ubuntu2.22.04.1) ...\n",
            "Selecting previously unselected package systemd-hwe-hwdb.\n",
            "Preparing to unpack .../systemd-hwe-hwdb_249.11.5_all.deb ...\n",
            "Unpacking systemd-hwe-hwdb (249.11.5) ...\n",
            "Setting up systemd-hwe-hwdb (249.11.5) ...\n",
            "Setting up chromium-browser (1:85.0.4183.83-0ubuntu2.22.04.1) ...\n",
            "update-alternatives: using /usr/bin/chromium-browser to provide /usr/bin/x-www-browser (x-www-browser) in auto mode\n",
            "update-alternatives: using /usr/bin/chromium-browser to provide /usr/bin/gnome-www-browser (gnome-www-browser) in auto mode\n",
            "Setting up chromium-chromedriver (1:85.0.4183.83-0ubuntu2.22.04.1) ...\n",
            "Processing triggers for udev (249.11-0ubuntu3.12) ...\n",
            "Processing triggers for hicolor-icon-theme (0.17-2) ...\n",
            "Processing triggers for libc-bin (2.35-0ubuntu3.4) ...\n",
            "/sbin/ldconfig.real: /usr/local/lib/libtbbmalloc_proxy.so.2 is not a symbolic link\n",
            "\n",
            "/sbin/ldconfig.real: /usr/local/lib/libtbbbind.so.3 is not a symbolic link\n",
            "\n",
            "/sbin/ldconfig.real: /usr/local/lib/libtbbmalloc.so.2 is not a symbolic link\n",
            "\n",
            "/sbin/ldconfig.real: /usr/local/lib/libtbbbind_2_5.so.3 is not a symbolic link\n",
            "\n",
            "/sbin/ldconfig.real: /usr/local/lib/libtbbbind_2_0.so.3 is not a symbolic link\n",
            "\n",
            "/sbin/ldconfig.real: /usr/local/lib/libtbb.so.12 is not a symbolic link\n",
            "\n",
            "Processing triggers for man-db (2.10.2-1) ...\n",
            "Processing triggers for dbus (1.12.20-2ubuntu4.1) ...\n"
          ]
        }
      ]
    },
    {
      "cell_type": "code",
      "execution_count": null,
      "id": "5d97b230-438d-4edb-950c-6ce110aca10e",
      "metadata": {
        "tags": [],
        "id": "5d97b230-438d-4edb-950c-6ce110aca10e"
      },
      "outputs": [],
      "source": [
        "# 라이브러리 불러오기\n",
        "from selenium import webdriver\n",
        "from selenium.webdriver.common.by import By\n",
        "from selenium.webdriver import ActionChains\n",
        "from selenium.webdriver.support.select import Select\n",
        "from bs4 import BeautifulSoup\n",
        "import random\n",
        "import pandas as pd\n",
        "import os"
      ]
    },
    {
      "cell_type": "code",
      "source": [
        "#코랩에서 실행하는 경우\n",
        "\n",
        "# 드라이버 연결(수정)\n",
        "driver = webdriver.Chrome(options=chrome_options)   # webdriver 연결을 chrome으로 연결하기\n",
        "# 액션체인 객체 생성\n",
        "act = ActionChains(driver)    # ActionChains : 동작을 여러 개 묶어서 실행시켜주는 메소드. 괄호에 있는 드라이버를 통해 크롬과 연결\n",
        "\n",
        "# 스트존 웹사이트 이동(game 뒤의 특정날짜 입력으로 경기일자 변경가능)\n",
        "driver.get('https://strikes.zone/game/230725SSGSSL')  #driver.get = get 메소드로 strikes.zone으로 이동(날짜와 연관이 있어 다른 날짜를 쓰려면 바꿔줘야)\n",
        "\n",
        "# 대기\n",
        "driver.implicitly_wait(3)    # driver.implictly로 시간 3초 지연설정\n",
        "\n",
        "# 이닝별 정보 버튼 클릭\n",
        "btn_inning = driver.find_element(By.XPATH, '//*[@id=\"__layout\"]/div/div/section/section/header/div[2]/button[4]') # drive.find로 클릭하기(XPATH로 웹페이지로 가야 할 길을 열어놓는~)\n",
        "act.click(btn_inning) # act 액션 객체가 btn_innineg을 클릭하도록 실행\n",
        "act.perform()    # act의 클릭 동작을 실행하기"
      ],
      "metadata": {
        "colab": {
          "base_uri": "https://localhost:8080/",
          "height": 255
        },
        "id": "iaITyCAdW1z_",
        "outputId": "26867d03-920a-4b2d-dbdc-a48ab06b6051"
      },
      "id": "iaITyCAdW1z_",
      "execution_count": null,
      "outputs": [
        {
          "output_type": "error",
          "ename": "NameError",
          "evalue": "name 'chrome_options' is not defined",
          "traceback": [
            "\u001b[0;31m---------------------------------------------------------------------------\u001b[0m",
            "\u001b[0;31mNameError\u001b[0m                                 Traceback (most recent call last)",
            "\u001b[0;32m<ipython-input-4-459521c89b28>\u001b[0m in \u001b[0;36m<cell line: 4>\u001b[0;34m()\u001b[0m\n\u001b[1;32m      2\u001b[0m \u001b[0;34m\u001b[0m\u001b[0m\n\u001b[1;32m      3\u001b[0m \u001b[0;31m# 드라이버 연결(수정)\u001b[0m\u001b[0;34m\u001b[0m\u001b[0;34m\u001b[0m\u001b[0m\n\u001b[0;32m----> 4\u001b[0;31m \u001b[0mdriver\u001b[0m \u001b[0;34m=\u001b[0m \u001b[0mwebdriver\u001b[0m\u001b[0;34m.\u001b[0m\u001b[0mChrome\u001b[0m\u001b[0;34m(\u001b[0m\u001b[0moptions\u001b[0m\u001b[0;34m=\u001b[0m\u001b[0mchrome_options\u001b[0m\u001b[0;34m)\u001b[0m   \u001b[0;31m# webdriver 연결을 chrome으로 연결하기\u001b[0m\u001b[0;34m\u001b[0m\u001b[0;34m\u001b[0m\u001b[0m\n\u001b[0m\u001b[1;32m      5\u001b[0m \u001b[0;31m# 액션체인 객체 생성\u001b[0m\u001b[0;34m\u001b[0m\u001b[0;34m\u001b[0m\u001b[0m\n\u001b[1;32m      6\u001b[0m \u001b[0mact\u001b[0m \u001b[0;34m=\u001b[0m \u001b[0mActionChains\u001b[0m\u001b[0;34m(\u001b[0m\u001b[0mdriver\u001b[0m\u001b[0;34m)\u001b[0m    \u001b[0;31m# ActionChains : 동작을 여러 개 묶어서 실행시켜주는 메소드. 괄호에 있는 드라이버를 통해 크롬과 연결\u001b[0m\u001b[0;34m\u001b[0m\u001b[0;34m\u001b[0m\u001b[0m\n",
            "\u001b[0;31mNameError\u001b[0m: name 'chrome_options' is not defined"
          ]
        }
      ]
    },
    {
      "cell_type": "markdown",
      "id": "8830c914-44d8-40c7-b028-54a05a84f753",
      "metadata": {
        "id": "8830c914-44d8-40c7-b028-54a05a84f753"
      },
      "source": [
        "## KBO 타자 기록실 연결"
      ]
    },
    {
      "cell_type": "code",
      "execution_count": null,
      "id": "b967936b-eafb-457c-8072-b64a322443af",
      "metadata": {
        "tags": [],
        "id": "b967936b-eafb-457c-8072-b64a322443af"
      },
      "outputs": [],
      "source": [
        "def connect_KBO():\n",
        "    global driver\n",
        "    global act\n",
        "\n",
        "    # 드라이버 연결\n",
        "    driver = webdriver.Chrome()\n",
        "\n",
        "    # 액션체인 객체 생성\n",
        "    act = ActionChains(driver)\n",
        "\n",
        "    # KBO 기록실 이동 - 타자 / 투수\n",
        "    driver.get(\"https://www.koreabaseball.com/Schedule/Schedule.aspx\")\n",
        "\n",
        "    # 대기\n",
        "    driver.implicitly_wait(3)"
      ]
    },
    {
      "cell_type": "markdown",
      "id": "6a033657-d660-4fcb-b40c-dfb460ac5e3b",
      "metadata": {
        "tags": [],
        "id": "6a033657-d660-4fcb-b40c-dfb460ac5e3b"
      },
      "source": [
        "## 연도별 경기정보 수집기"
      ]
    },
    {
      "cell_type": "code",
      "execution_count": null,
      "id": "afa9bd61-b769-490b-b679-2ba9a369da5e",
      "metadata": {
        "tags": [],
        "id": "afa9bd61-b769-490b-b679-2ba9a369da5e"
      },
      "outputs": [],
      "source": [
        "def get_games_info(year):\n",
        "    games_info = list()         #최종 데이터를 넣어주기 위한 리스트 생성\n",
        "\n",
        "    year_btn = driver.find_element(By.XPATH, '//*[@id=\"ddlYear\"]')          #ddlYear의 XPath를 가져옴\n",
        "    sel_year_btn = Select(year_btn)                                         #ddlYear 선택\n",
        "    sel_year_btn.select_by_value(str(year))                                 #내가 입력한 년도를 str로 변경하여 ddlYear 선택\n",
        "    driver.implicitly_wait(random.randrange(3, 7))                          #로딩까지 기다림\n",
        "\n",
        "    for month in range(1, 13):                                              #달 선택 (1~12월)\n",
        "        month_btn = driver.find_element(By.XPATH, '//*[@id=\"ddlMonth\"]')    #ddlMonth의 XPATH를 가져옴\n",
        "        sel_month_btn = Select(month_btn)                                   #ddmMonth를 1~12월까지 선택\n",
        "\n",
        "        month = \"0\"+str(month) if month < 10 else str(month)                #만약 달이 한자리수라면 앞에 0을 붙여주고 아니면 그대로 문자열로 반환\n",
        "        sel_month_btn.select_by_value(month)                                #선택된 달로하여 선택박스 선택\n",
        "        driver.implicitly_wait(random.randrange(3, 7))                      #로딩까지 기다림\n",
        "\n",
        "        table = driver.find_element(By.XPATH, '/html/body/form/div[3]/section/div/div/div[4]/table/tbody')      #원하는 피쳐만 가져오기위해 피쳐 밑 데이터만 불러옴\n",
        "        rows = table.find_elements(By.TAG_NAME, \"tr\")                       #tr을 하나씩 가져옴\n",
        "\n",
        "        # 데이터가 없는 월은 continue\n",
        "        if len(rows) == 1:                                                  #데이터가 없을 때 '데이터가 없습니다'라는 한줄만 존재\n",
        "            continue                                                        #데이터 긁어오는거 없이 지나감\n",
        "\n",
        "\n",
        "        game_date = None                                                    #game_data=None\n",
        "\n",
        "        for tr in rows:                                                     #rows가 가지고 있는 tr을 하나씩 가져옴                                                   #info라는 list 생성\n",
        "            datas = tr.find_elements(By.TAG_NAME, \"td\")                     #tr속에 있는 td데이터 이름 가져옴\n",
        "\n",
        "            for td in datas:                                                #dates 속에 저장되어 있는 td를 하나씩 꺼내옴\n",
        "                if td.get_attribute(\"rowspan\"):                             #경기 날짜 데이터가 rowspan을 가지고 있는데 하루에 여러 경기가 있어서 새롭게 rowspan이 갱신될때 저장한다.\n",
        "                    game_date = str(year) + \"-\" + td.text[:5].replace(\".\", \"-\") #날짜를 형식에 맞춰서 '.'을 '-'으로 바꿔줌\n",
        "                if \":\" in td.text:                                          # td.text속에 :이 있다면\n",
        "                    game_start_time = td.text                               #경기 시작시간임으로 이를 게임시작 피쳐에 넣어줌\n",
        "                if \"vs\" in td.text:                                         #'vs'가 있다면\n",
        "                    away_name, home_name = td.text.split(\"vs\")              #vs를 기준으로 앞은 원정팀, 뒤는 홈팀으로 나눠줌\n",
        "                    away_name = \"\".join([i for i in away_name if i.isnumeric() == False])   #만약 숫자가 있다면 글을 안넣고 문자만 넣어줌\n",
        "                    home_name = \"\".join([i for i in home_name if i.isnumeric() == False])   #만약 숫자가 있다면 글을 안넣고 문자만 넣어줌\n",
        "\n",
        "                if td == datas[-2]:                                         #tr 중 뒤에서 두번째가 구장명임으로 2번째이면\n",
        "                    game_place = td.text                                    #구장에 TEXT를 넣어줌\n",
        "\n",
        "            games_info.append([game_date, game_place, home_name, away_name, game_start_time])       #수집한 정보를 games_info에 한번에 넣어줌\n",
        "\n",
        "    return games_info\n",
        "\n"
      ]
    },
    {
      "cell_type": "markdown",
      "id": "724297ff-c3fd-4129-9794-3dcbf8563197",
      "metadata": {
        "tags": [],
        "id": "724297ff-c3fd-4129-9794-3dcbf8563197"
      },
      "source": [
        "## 크롤러 실행기"
      ]
    },
    {
      "cell_type": "code",
      "execution_count": null,
      "id": "4637b8c2-f0cc-4501-a15d-62984b8feb65",
      "metadata": {
        "tags": [],
        "id": "4637b8c2-f0cc-4501-a15d-62984b8feb65"
      },
      "outputs": [],
      "source": [
        "def runner(year):\n",
        "    # 필요한 데이터 피쳐 리스트\n",
        "    col = [\"game_date\", \"game_place\", \"home_name\", \"away_name\", \"game_start_time\"]          #우리가 사용할 피쳐명만 모아둔 곳\n",
        "    f_name = f\"KBO경기정보_{year}.csv\"                                                      #파일 이름 설정\n",
        "    print(f\"현재 경로: [{os.getcwd()}]에 [{f_name}] 로 저장예정. \\n원치 않으면 실행을 중단하세요.\")\n",
        "\n",
        "    connect_KBO()                                                                           #타자 기록실 연결 함수 실행\n",
        "    data = get_games_info(year)                                                             #입력한 날짜에 맞춰 함수 실행\n",
        "\n",
        "    df = pd.DataFrame(data, columns=col)                                                    #가져온 데이터를 데이터 프레임으로 제작\n",
        "    df.to_csv(f_name, index=False)                                                          #csv파일로 저장\n",
        "\n",
        "    print(f\"파일 저장 완료\\n파일 저장 경로: {os.getcwd()}/{f_name}\")                        #저장이 끝나면 내용 프린\n",
        "\n",
        "    return df"
      ]
    },
    {
      "cell_type": "code",
      "execution_count": null,
      "id": "4334474e-f8a6-471b-aad0-f36e4704ce27",
      "metadata": {
        "tags": [],
        "id": "4334474e-f8a6-471b-aad0-f36e4704ce27"
      },
      "outputs": [],
      "source": [
        "runner(2020)"
      ]
    },
    {
      "cell_type": "code",
      "source": [],
      "metadata": {
        "id": "NUpbpf-LWmMR"
      },
      "id": "NUpbpf-LWmMR",
      "execution_count": null,
      "outputs": []
    }
  ],
  "metadata": {
    "kernelspec": {
      "display_name": "Python 3 (ipykernel)",
      "language": "python",
      "name": "python3"
    },
    "language_info": {
      "codemirror_mode": {
        "name": "ipython",
        "version": 3
      },
      "file_extension": ".py",
      "mimetype": "text/x-python",
      "name": "python",
      "nbconvert_exporter": "python",
      "pygments_lexer": "ipython3",
      "version": "3.11.3"
    },
    "colab": {
      "provenance": [],
      "include_colab_link": true
    }
  },
  "nbformat": 4,
  "nbformat_minor": 5
}